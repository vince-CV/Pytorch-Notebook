{
 "cells": [
  {
   "cell_type": "markdown",
   "metadata": {},
   "source": [
    "# <font style=\"color:blue\">PyTorch to PyTorch Lightning (with LeNet)</font>\n",
    "\n",
    "---\n",
    "\n",
    "In this notebook, we will re-implement  [`Implementing LeNet in PyTorch`](https://courses.opencv.org/courses/course-v1:OpenCV+OpenCV-106+2019_T1/courseware/41758fee84fa4f95be0a9b22403b1748/d44a2e71798d4e26909d30575c742506/2?activate_block_id=block-v1%3AOpenCV%2BOpenCV-106%2B2019_T1%2Btype%40vertical%2Bblock%405d3e4e9657184e21888c5ade002a8d5b) notebook in PyTorch Lightning. We will be mostly focused on implementation. We will cover the following in PyTorch Lightning:\n",
    "\n",
    "1. Model in PyTorch Lightning (`LightningModule`)\n",
    "2. Training step\n",
    "3. Validation step\n",
    "4. Metrics\n",
    "5. Optimizer configuration\n",
    "6. Data Module (`LightningDataModule`)\n",
    "7. Hyperparameters\n",
    "8. Tensorboard logs\n",
    "9. Saving and loading the model\n",
    "10. Trainer\n",
    "\n",
    "\n",
    "We will see how the PyTorch code is re-factored to PyTorch Lightning. "
   ]
  },
  {
   "cell_type": "code",
   "execution_count": 1,
   "metadata": {
    "collapsed": true
   },
   "outputs": [],
   "source": [
    "%matplotlib inline"
   ]
  },
  {
   "cell_type": "code",
   "execution_count": 2,
   "metadata": {
    "collapsed": true
   },
   "outputs": [],
   "source": [
    "import matplotlib.pyplot as plt  "
   ]
  },
  {
   "cell_type": "code",
   "execution_count": 3,
   "metadata": {
    "collapsed": true
   },
   "outputs": [],
   "source": [
    "# import pytorch lightning\n",
    "import pytorch_lightning as pl\n",
    "\n",
    "# import pre-implemented accuracy metrics \n",
    "from pytorch_lightning.metrics.functional import accuracy\n",
    "\n",
    "# PyTorch imports\n",
    "import torch\n",
    "import torch.nn as nn\n",
    "import torch.optim as optim\n",
    "import torch.nn.functional as F\n",
    "from torchvision import datasets, transforms"
   ]
  },
  {
   "cell_type": "markdown",
   "metadata": {},
   "source": [
    "## <font style=\"color:green\">1. Lightning Module</font>\n",
    "\n",
    "---\n",
    "\n",
    "We create a class with `LightningModule` as a base class. This class should have the model, training step, validation step, optimizer, etc. A `LightningModule` organizes a model training code as follows:"
   ]
  },
  {
   "cell_type": "code",
   "execution_count": 4,
   "metadata": {
    "collapsed": true
   },
   "outputs": [],
   "source": [
    "class LeNet5(pl.LightningModule):  # here nn.Module is replaced by LightningModule\n",
    "    def __init__(self, learning_rate=0.01):\n",
    "        super().__init__()\n",
    "        \n",
    "        # Save the arguments as hyperparameters. \n",
    "        self.save_hyperparameters()\n",
    "\n",
    "        # convolution layers\n",
    "        self._body = nn.Sequential(\n",
    "            # First convolution Layer\n",
    "            # input size = (32, 32), output size = (28, 28)\n",
    "            nn.Conv2d(in_channels=1, out_channels=6, kernel_size=5),\n",
    "            # ReLU activation\n",
    "            nn.ReLU(inplace=True),\n",
    "            # Max pool 2-d\n",
    "            nn.MaxPool2d(kernel_size=2),\n",
    "            \n",
    "            # Second convolution layer\n",
    "            # input size = (14, 14), output size = (10, 10)\n",
    "            nn.Conv2d(in_channels=6, out_channels=16, kernel_size=5),\n",
    "            nn.ReLU(inplace=True),\n",
    "            nn.MaxPool2d(kernel_size=2),\n",
    "            # output size = (5, 5)\n",
    "        )\n",
    "        \n",
    "        # Fully connected layers\n",
    "        self._head = nn.Sequential(\n",
    "            # First fully connected layer\n",
    "            # in_features = total number of weights in last conv layer = 16 * 5 * 5\n",
    "            nn.Linear(in_features=16 * 5 * 5, out_features=120), \n",
    "            \n",
    "            # ReLU activation\n",
    "            nn.ReLU(inplace=True),\n",
    "            \n",
    "            # second fully connected layer\n",
    "            # in_features = output of last linear layer = 120 \n",
    "            nn.Linear(in_features=120, out_features=84), \n",
    "            \n",
    "            # ReLU activation\n",
    "            nn.ReLU(inplace=True),\n",
    "            \n",
    "            # Third fully connected layer. It is also the output layer\n",
    "            # in_features = output of last linear layer = 84\n",
    "            # and out_features = number of classes = 10 (MNIST data 0-9)\n",
    "            nn.Linear(in_features=84, out_features=10)\n",
    "        )\n",
    "        \n",
    "\n",
    "    def forward(self, x):\n",
    "        # apply feature extractor\n",
    "        x = self._body(x)\n",
    "        # flatten the output of conv layers\n",
    "        # dimension should be batch_size * number_of weights_in_last conv_layer\n",
    "        x = x.view(x.size()[0], -1)\n",
    "        # apply classification head\n",
    "        x = self._head(x)\n",
    "        return x\n",
    "    \n",
    "    def training_step(self, batch, batch_idx):\n",
    "        \n",
    "        # get data and labels from batch\n",
    "        data, target = batch\n",
    "\n",
    "        # get prediction\n",
    "        output = self(data)\n",
    "        \n",
    "        # calculate loss\n",
    "        loss = F.cross_entropy(output, target)\n",
    "        \n",
    "        # get probability score using softmax\n",
    "        prob = F.softmax(output, dim=1)\n",
    "        \n",
    "        # get the index of the max probability\n",
    "        pred = prob.data.max(dim=1)[1]\n",
    "        \n",
    "        acc = accuracy(pred=pred, target=target)\n",
    "        \n",
    "        \n",
    "        dic = {\n",
    "            'train_loss': loss,\n",
    "            'train_acc': acc\n",
    "        }\n",
    "        \n",
    "\n",
    "        return {'loss': loss, 'log': dic, 'progress_bar': dic}\n",
    "\n",
    "    def training_epoch_end(self, training_step_outputs):\n",
    "        # training_step_outputs = [{'loss': loss, 'log': dic, 'progress_bar': dic}, ..., \n",
    "        #{'loss': loss, 'log': dic, 'progress_bar': dic}]\n",
    "        avg_train_loss = torch.tensor([x['progress_bar']['train_loss'] for x in training_step_outputs]).mean()\n",
    "        avg_train_acc = torch.tensor([x['progress_bar']['train_acc'] for x in training_step_outputs]).mean()\n",
    "        \n",
    "        \n",
    "        dic = {\n",
    "            'epoch_train_loss': avg_train_loss,\n",
    "            'epoch_train_acc': avg_train_acc\n",
    "        }\n",
    "        return {'log': dic, 'progress_bar': dic}\n",
    "        \n",
    "    \n",
    "    def validation_step(self, batch, batch_idx):\n",
    "        \n",
    "        # get data and labels from batch\n",
    "        data, target = batch\n",
    "        \n",
    "        # get prediction\n",
    "        output = self(data)\n",
    "        \n",
    "        # calculate loss\n",
    "        loss = F.cross_entropy(output, target)\n",
    "        \n",
    "        # get probability score using softmax\n",
    "        prob = F.softmax(output, dim=1)\n",
    "        \n",
    "        # get the index of the max probability\n",
    "        pred = prob.data.max(dim=1)[1]\n",
    "        \n",
    "        acc = accuracy(pred=pred, target=target)\n",
    "        \n",
    "        dic = {\n",
    "            'v_loss': loss,\n",
    "            'v_acc': acc\n",
    "        }\n",
    "        \n",
    "        return dic\n",
    "    \n",
    "    \n",
    "    def validation_epoch_end(self, validation_step_outputs):\n",
    "        # validation_step_outputs = [dic, ..., dic]\n",
    "        \n",
    "        avg_val_loss = torch.tensor([x['v_loss'] for x in validation_step_outputs]).mean()\n",
    "        avg_val_acc = torch.tensor([x['v_acc'] for x in validation_step_outputs]).mean()\n",
    "        \n",
    "        \n",
    "        dic = {\n",
    "            'avg_val_loss': avg_val_loss,\n",
    "            'avg_val_acc': avg_val_acc\n",
    "        }\n",
    "        return {'val_loss': avg_val_loss, 'log': dic, 'progress_bar': dic}\n",
    "    \n",
    "    def configure_optimizers(self):\n",
    "        return torch.optim.SGD(self.parameters(), lr=self.hparams.learning_rate)"
   ]
  },
  {
   "cell_type": "markdown",
   "metadata": {},
   "source": [
    "### <font style=\"color:green\">1.1. Model definition and forward method</font>\n",
    "\n",
    "In PyTorch Lightning, model definition and forward method are similar to PyTorch. The only difference is the base class. In PyTorch, the base class is `torch.nn.module`; however, in PyTorch Lightning, the base class is `pytorch_lightning.LightningModule`.\n",
    "\n",
    "\n",
    "In PyTorch Lightning, we are using an extra argument `learning_rate` and the following line of code:\n",
    "\n",
    "```python\n",
    "# Save the arguments as hypermeters. \n",
    "self.save_hyperparameters()\n",
    "```\n",
    "\n",
    "The above line of code saves arguments as hyperparameters. \n",
    "\n",
    "### <font style=\"color:green\">1.2. Training loop (training_step)</font>\n",
    "\n",
    "**Model training in Pytorch requires a loop that iterates through the training dataset using a batch size and does some fix operations with each batch**. <br>\n",
    "In PyTorch Lighting, we need to write those fix operations except the optimization step. These fixed operations should be defined under the `training_step` method of the same class where the model is defined. The \"training_step\" is mandatory in PyTorch Lightning. If there is no `validatioion_step` (not mandatory with `LightningModule`), the model checkpoint will be saved when training loss decreases. \n",
    "\n",
    "\n",
    "**Let's compare operations on each batch in PyTorch code and training_step of PyTorch Lightning code.**\n",
    "\n",
    "\n",
    "**PyTorch code:**\n",
    "\n",
    "```python\n",
    "        # reset parameters gradient to zero\n",
    "        optimizer.zero_grad()\n",
    "        \n",
    "        # forward pass to the model\n",
    "        output = model(data)\n",
    "        \n",
    "        # cross entropy loss\n",
    "        loss = F.cross_entropy(output, target)\n",
    "        \n",
    "        # find gradients w.r.t training parameters\n",
    "        loss.backward()\n",
    "        # Update parameters using gradients\n",
    "        optimizer.step()\n",
    "        \n",
    "        batch_loss = np.append(batch_loss, [loss.item()])\n",
    "        \n",
    "        # get probability score using softmax\n",
    "        prob = F.softmax(output, dim=1)\n",
    "            \n",
    "        # get the index of the max probability\n",
    "        pred = prob.data.max(dim=1)[1]  \n",
    "                        \n",
    "        # correct prediction\n",
    "        correct = pred.cpu().eq(indx_target).sum()\n",
    "            \n",
    "        # accuracy\n",
    "        acc = float(correct) / float(len(data))\n",
    "        \n",
    "        batch_acc = np.append(batch_acc, [acc])\n",
    "\n",
    "```\n",
    "\n",
    "**PyTorch Lightning code:**\n",
    "\n",
    "```python\n",
    "    def training_step(self, batch, batch_idx):\n",
    "        \n",
    "        # get data and labels from batch\n",
    "        data, target = batch\n",
    "\n",
    "        # get prediction\n",
    "        output = self(data)\n",
    "        \n",
    "        # calculate loss\n",
    "        loss = F.cross_entropy(output, target)\n",
    "        \n",
    "        # get probability score using softmax\n",
    "        prob = F.softmax(output, dim=1)\n",
    "        \n",
    "        # get the index of the max probability\n",
    "        pred = prob.data.max(dim=1)[1]\n",
    "        \n",
    "        acc = accuracy(pred=pred, target=target)\n",
    "        \n",
    "        \n",
    "        dic = {\n",
    "            'train_loss': loss,\n",
    "            'train_acc': acc\n",
    "        }\n",
    "        \n",
    "\n",
    "        return {'loss': loss, 'log': dic, 'progress_bar': dic}\n",
    "```\n",
    "\n",
    "\n",
    "- Model inference, loss calculation, and class prediction are the same in both. \n",
    "\n",
    "\n",
    "- For accuracy calculation (`accuracy(pred=pred, target=target)`), PyTorch Lightning metric module is being used. Get details of metrics [here](https://pytorch-lightning.readthedocs.io/en/latest/metrics.html).\n",
    "\n",
    "\n",
    "- Calculate gradient (`loss.backward()`) and update weights (`optimizer.step()`), are there in PyTorch code but not in `training_step` of PyTorch Lightning. How is PyTorch Lightning handling the gradient calculation and gradient of what? The `training_step` is returning `{'loss': loss, 'log': dic, 'progress_bar': dic}`, here by default, it is mandatory to have a key with name loss and internally Lightning access the graph (`loss` here) by the key \"loss\" and calculate the gradients of the graph with respect to parameters and update it in each batch.\n",
    "\n",
    "\n",
    "- There are two arrays (`batch_loss`, `batch_acc`) in PyTorch code, for batch loss and accuracy collection. Later these arrays are used to calculate mean epoch loss and accuracy. These are taken care of by the `training_epoch_end` method in PyTorch Lightning.\n",
    "\n",
    "\n",
    "- The `training_step` method is returning `{'loss': loss, 'log': dic, 'progress_bar': dic}`. We have already discussed the significance of the key \"loss\". What is the significance of the key \"log\" and \"progress_bar\"? The key \"log\" is used for logging (by default tensorboard). And the key \"progress_bar\" is used to add key-value to the progress bar while training.\n",
    "\n",
    "\n",
    "\n",
    "\n",
    "### <font style=\"color:green\">1.3. Validation loop (validation_step)</font>\n",
    "\n",
    "Generally, we use a validation loop to evaluate our model and save the model checkpoint if performance improves. In PyTorch Lightning, we use `validation_step` to accomplish the same task. By default, the model checkpoint got saved if the validation loss decreases.\n",
    "\n",
    "\n",
    "**Let's compare operations on each batch in PyTorch code and validation_step of PyTorch Lightning code.**\n",
    "\n",
    "\n",
    "**PyTorch code:**\n",
    "\n",
    "```python\n",
    "\n",
    "        output = model(data)\n",
    "        # add loss for each mini batch\n",
    "        test_loss += F.cross_entropy(output, target).item()\n",
    "        \n",
    "        # get probability score using softmax\n",
    "        prob = F.softmax(output, dim=1)\n",
    "        \n",
    "        # get the index of the max probability\n",
    "        pred = prob.data.max(dim=1)[1] \n",
    "        \n",
    "        # add correct prediction count\n",
    "        count_corect_predictions += pred.cpu().eq(indx_target).sum()\n",
    "```\n",
    "\n",
    "**PyTorch Lightning code:**\n",
    "\n",
    "\n",
    "```python\n",
    "    def validation_step(self, batch, batch_idx):\n",
    "        \n",
    "        # get data and labels from batch\n",
    "        data, target = batch\n",
    "        \n",
    "        # get prediction\n",
    "        output = self(data)\n",
    "        \n",
    "        # calculate loss\n",
    "        loss = F.cross_entropy(output, target)\n",
    "        \n",
    "        # get probability score using softmax\n",
    "        prob = F.softmax(output, dim=1)\n",
    "        \n",
    "        # get the index of the max probability\n",
    "        pred = prob.data.max(dim=1)[1]\n",
    "        \n",
    "        acc = accuracy(pred=pred, target=target)\n",
    "        \n",
    "        dic = {\n",
    "            'v_loss': loss,\n",
    "            'v_acc': acc\n",
    "        }\n",
    "        \n",
    "        return dic\n",
    "    \n",
    "```\n",
    "\n",
    "\n",
    "- Operations in the validation loop in PyTorch code are almost similar to the validation_step in PyTorch Lightning code.\n",
    "\n",
    "\n",
    "- The validation_step returns a dictionary of loss and accuracy. This will be used by validation_epoch_end to calculate epoch loss and accuracy and add it to logs and progress bar.\n",
    "\n",
    "\n",
    "### <font style=\"color:green\">1.4. training_epoch_end</font>\n",
    "\n",
    "This is a method of `LightningModule`. As the name suggests, this function will be called after each training epoch. Training epoch loss and accuracy is needed for logs and plots. We can handle these things here.\n",
    "\n",
    "**PyTorch Lightning code:**\n",
    "\n",
    "```python\n",
    "    def training_epoch_end(self, training_step_outputs):\n",
    "        # training_step_outputs = [{'loss': loss, 'log': dic, 'progress_bar': dic}, ..., \n",
    "        #{'loss': loss, 'log': dic, 'progress_bar': dic}]\n",
    "        avg_train_loss = torch.tensor([x['progress_bar']['train_loss'] for x in training_step_outputs]).mean()\n",
    "        avg_train_acc = torch.tensor([x['progress_bar']['train_acc'] for x in training_step_outputs]).mean()\n",
    "        \n",
    "        \n",
    "        dic = {\n",
    "            'epoch_train_loss': avg_train_loss,\n",
    "            'epoch_train_acc': avg_train_acc\n",
    "        }\n",
    "        return {'log': dic, 'progress_bar': dic}\n",
    "```\n",
    "\n",
    "\n",
    "### <font style=\"color:green\">1.5. validation_epoch_end</font>\n",
    "\n",
    "This is a method of `LightningModule` that is responsible for saving of model checkpoint. By default, if the validation loss decreases, the model checkpoint used to be saved.\n",
    "\n",
    "**PyTorch Lightning code:**\n",
    "\n",
    "```python\n",
    "    def validation_epoch_end(self, validation_step_outputs):\n",
    "        # validation_step_outputs = [dic, ..., dic]\n",
    "        \n",
    "        avg_val_loss = torch.tensor([x['v_loss'] for x in validation_step_outputs]).mean()\n",
    "        avg_val_acc = torch.tensor([x['v_acc'] for x in validation_step_outputs]).mean()\n",
    "        \n",
    "        \n",
    "        dic = {\n",
    "            'avg_val_loss': avg_val_loss,\n",
    "            'avg_val_acc': avg_val_acc\n",
    "        }\n",
    "        return {'val_loss': avg_val_loss, 'log': dic, 'progress_bar': dic}\n",
    "```\n",
    "\n",
    "\n",
    "### <font style=\"color:green\">1.6. configure_optimizers</font>\n",
    "\n",
    "\n",
    "This method of `LightningModule` is used to define the optimizers. \n",
    "\n",
    "**PyTorch code:**\n",
    "\n",
    "```python\n",
    "    # optimizer\n",
    "    optimizer = optim.SGD(\n",
    "        model.parameters(),\n",
    "        lr=training_configuration.learning_rate\n",
    "    )\n",
    "```\n",
    "\n",
    "**PyTorch Lightning code:**\n",
    "\n",
    "```python\n",
    "    def configure_optimizers(self):\n",
    "        return torch.optim.SGD(self.parameters(), lr=self.hparams.learning_rate)\n",
    "```"
   ]
  },
  {
   "cell_type": "markdown",
   "metadata": {},
   "source": [
    "## <font style=\"color:green\">2. Lightning Data Module</font>\n",
    "\n",
    "**A Lightning data module encapsulates the five steps involved in data processing in PyTorch:**\n",
    "\n",
    "1. Download\n",
    "2. Clean and save data\n",
    "3. Load inside [dataset](https://pytorch.org/docs/stable/data.html#torch.utils.data.Dataset)\n",
    "4. Apply transforms\n",
    "5. Wrap inside [dataloader](https://pytorch.org/docs/stable/data.html#torch.utils.data.DataLoader)\n",
    "\n",
    "\n",
    "**Why should we use the Lightning data module?**\n",
    "\n",
    "The Lightning data module forces us to do data processing (downloading to PyTorch dataloader)  in a single class. It has a pre-defined name for a specific task. It makes it easy to understand, reuse, and share. \n",
    "\n",
    "\n",
    "We can replace the `get_data` method in PyTorch implementation with the `MNISTDataModule` class in PyTorch Lightning implementation that is more abstract and intuitive. All operations related to data can be defined in the same class, for example, data augmentation, mean-std calculation, etc."
   ]
  },
  {
   "cell_type": "code",
   "execution_count": 5,
   "metadata": {
    "collapsed": true,
    "lines_to_next_cell": 2
   },
   "outputs": [],
   "source": [
    "class MNISTDataModule(pl.LightningDataModule):\n",
    "\n",
    "    def __init__(self, data_root, batch_size, num_workers):\n",
    "        \n",
    "        super().__init__()\n",
    "        \n",
    "        self.data_root = data_root\n",
    "        self.batch_size = batch_size\n",
    "        self.num_workers = num_workers\n",
    "        \n",
    "        self.train_test_transforms = transforms.Compose([\n",
    "            # Resize to 32X32\n",
    "            transforms.Resize((32, 32)),\n",
    "            # this re-scales image tensor values between 0-1. image_tensor /= 255\n",
    "            transforms.ToTensor(),\n",
    "            # subtract mean (0.1307) and divide by variance (0.3081).\n",
    "            # This mean and variance is calculated on training data (verify for yourself)\n",
    "            transforms.Normalize((0.1307, ), (0.3081, ))\n",
    "        ])\n",
    "        \n",
    "    def prepare_data(self):\n",
    "        # download\n",
    "        datasets.MNIST(self.data_root, train=True, download=True)\n",
    "        datasets.MNIST(self.data_root, train=False, download=True)\n",
    "        \n",
    "    def setup(self, stage=None):\n",
    "        \n",
    "        self.train_dataset = datasets.MNIST(self.data_root, train=True, transform=self.train_test_transforms)\n",
    "        self.val_dataset = datasets.MNIST(self.data_root, train=False, transform=self.train_test_transforms)\n",
    "    \n",
    "\n",
    "\n",
    "    def train_dataloader(self):\n",
    "        # train loader\n",
    "        train_loader = torch.utils.data.DataLoader(\n",
    "            self.train_dataset,\n",
    "            batch_size=self.batch_size, \n",
    "            shuffle=True,\n",
    "            num_workers=self.num_workers\n",
    "        )\n",
    "        return train_loader\n",
    "\n",
    "    def val_dataloader(self):\n",
    "        # validation loader\n",
    "        test_loader = torch.utils.data.DataLoader(\n",
    "            self.val_dataset,\n",
    "            batch_size=self.batch_size, \n",
    "            shuffle=False,\n",
    "            num_workers=self.num_workers\n",
    "        )\n",
    "        return test_loader"
   ]
  },
  {
   "cell_type": "markdown",
   "metadata": {},
   "source": [
    "**Pre-defined methods and their usages are as follows:**\n",
    "\n",
    "- **`prepare_data`:** This method is used for data preparation. For example, downloading and doing one time preprocessing with the dataset. If one is training on distributed GPU, this will be called from a single GPU. So do not update or initiate attributes in this method (Note: Do not do - `self.x = y`)\n",
    "\n",
    "\n",
    "- **`setup`:** There are also data operations one might want to perform on every GPU. For example, perform train/val/test splits. This method will be called from every GPU. \n",
    "\n",
    "\n",
    "- **`train_dataloader`:** This method should return dataloader with train dataset. \n",
    "\n",
    "\n",
    "- **`val_dataloader(s)`:** This method should return dataloader(s) with validation dataset.\n",
    "\n",
    "\n",
    "- **`test_dataloader(s)`:** This method should return dataloader(s) with test dataset.\n",
    "\n",
    "\n",
    "Get details of `LightningDataModule` [here](https://pytorch-lightning.readthedocs.io/en/latest/datamodules.html)."
   ]
  },
  {
   "cell_type": "markdown",
   "metadata": {},
   "source": [
    "## <font style=\"color:green\">3. Hyperparameters</font>\n",
    "\n",
    "PyTorch Lightning has a default CLI (command line interface), and more arguments can be added using `ArgumentParser`. A few examples of default arguments are `--gpus`, `--deterministic`, `--max_epochs`, etc.\n",
    "\n",
    "Lightning is also compatible with hyperparameters optimization framework, eg. [optuna](https://github.com/optuna/optuna/blob/master/examples/pytorch_lightning_simple.py), [ray tune](https://docs.ray.io/en/master/tune/tutorials/tune-pytorch-lightning.html), etc.\n",
    "\n",
    "\n",
    "**The configuration code of PyTorch implementation can be defined using default arguments of argument parser.**"
   ]
  },
  {
   "cell_type": "code",
   "execution_count": 6,
   "metadata": {
    "collapsed": true
   },
   "outputs": [],
   "source": [
    "from argparse import ArgumentParser\n",
    "\n",
    "def configuration_parser(parent_parser):\n",
    "    parser = ArgumentParser(parents=[parent_parser], add_help=False)\n",
    "    parser.add_argument('--batch_size', type=int, default=16)\n",
    "    parser.add_argument('--epochs_count', type=int, default=20)\n",
    "    parser.add_argument('--data_root', type=str, default='data')\n",
    "    parser.add_argument('--num_workers', type=int, default=10)\n",
    "    parser.add_argument('--learning_rate', type=float, default=0.01)\n",
    "    return parser\n",
    "\n",
    "\n"
   ]
  },
  {
   "cell_type": "markdown",
   "metadata": {},
   "source": [
    "We can notice that `configuration_parser` has an argument `parent_parser`. As the name suggests, it is an argument parser, and in this method, we are adding more argument to it. This argument parser already has arguments from Trainer (will see next what is a Trainer) class."
   ]
  },
  {
   "cell_type": "markdown",
   "metadata": {},
   "source": [
    "## <font style=\"color:green\">4. Trainer</font>\n",
    "\n",
    "Once we have organized the PyTorch code with LightningModule and LightningDataModule, the Trainer automates everything else. \n",
    "\n",
    "**PyTorch code abstraction via PyTorch Lightning has the following advantages:**\n",
    "\n",
    "1. We have control over the code without an added abstraction.\n",
    "2. The PyTorch Lightning Trainer's default parameters are added by contributors and users from top AI labs such as Facebook AI Research, NYU, MIT, Stanford, etc.\n",
    "3. There is the flexibility to override the default parameters of Trainer with new or none to automate with the new method or stop automation. \n",
    "\n",
    "\n",
    "**`training_validation` is a wrapper of training steps using the Trainer.**"
   ]
  },
  {
   "cell_type": "code",
   "execution_count": 3,
   "metadata": {
    "collapsed": true,
    "lines_to_end_of_cell_marker": 2,
    "lines_to_next_cell": 2
   },
   "outputs": [],
   "source": [
    "def training_validation():\n",
    "    \n",
    "    # random seed\n",
    "    pl.seed_everything(21)\n",
    "    \n",
    "    # initiate the argument parser\n",
    "    parser = ArgumentParser()\n",
    "    \n",
    "    # initiates Trainer and gets already added arguments in the Trainer\n",
    "    parser = pl.Trainer.add_argparse_args(parser)\n",
    "\n",
    "    # adds more arguments to the argumennt parser\n",
    "    parser = configuration_parser(parser)\n",
    "    \n",
    "    \n",
    "    # using \"parse_known_args\" to work argument parser in the notebook. \n",
    "    # For normal python file we can use \"parse_args\"\n",
    "    # args = parser.parse_args()\n",
    "    args, unknown = parser.parse_known_args()\n",
    "    # print(args)\n",
    "\n",
    "    # init model\n",
    "    model = LeNet5(learning_rate=args.learning_rate)\n",
    "    \n",
    "    # init the data module\n",
    "    data_module = MNISTDataModule(data_root=args.data_root,\n",
    "                                  batch_size=args.batch_size, \n",
    "                                  num_workers=args.num_workers)\n",
    "    \n",
    "\n",
    "    # To take argument form command line, initiate the trainer like below\n",
    "    trainer = pl.Trainer.from_argparse_args(args,\n",
    "    #  fast_dev_run=True,  # use to test the code pipeline\n",
    "    max_epochs=20,        # maximum number of epoch\n",
    "    deterministic=True,  # to make code reproducible\n",
    "    gpus=1,               # total number of GPUs\n",
    "    progress_bar_refresh_rate=25, \n",
    "    early_stop_callback=True) # stop training if validation loss does \n",
    "    # not decrease for 3 epochs (default)\n",
    "    \n",
    "    \n",
    "    # if one is not interested in command line argument, the Trainer can be initiated as follows:\n",
    "    # trainer = pl.Trainer (\n",
    "    # fast_dev_run=True,\n",
    "    # max_epochs=20,\n",
    "    # deterministic=True,\n",
    "    # gpus=1,\n",
    "    # progress_bar_refresh_rate=25,\n",
    "    # early_stop_callback=True)\n",
    "    \n",
    "    \n",
    "    # start training\n",
    "    trainer.fit(model, data_module)\n",
    "    \n",
    "    return model, data_module"
   ]
  },
  {
   "cell_type": "markdown",
   "metadata": {},
   "source": [
    "When you download files from the download code section, we will also get the same notebook in .py format. You can run the python file in the command line.\n",
    "\n",
    "**Run the following command to get all arguments options**\n",
    "```\n",
    "python PyTorch_to_Lightning.py -h\n",
    "```\n",
    "\n",
    "You will get the following options:\n",
    "\n",
    "```\n",
    "usage: PyTorch_to_Lightning.py [-h] [--logger [LOGGER]]\n",
    "                               [--checkpoint_callback [CHECKPOINT_CALLBACK]]\n",
    "                               [--early_stop_callback [EARLY_STOP_CALLBACK]]\n",
    "                               [--default_root_dir DEFAULT_ROOT_DIR]\n",
    "                               [--gradient_clip_val GRADIENT_CLIP_VAL]\n",
    "                               [--process_position PROCESS_POSITION]\n",
    "                               [--num_nodes NUM_NODES]\n",
    "                               [--num_processes NUM_PROCESSES] [--gpus GPUS]\n",
    "                               [--auto_select_gpus [AUTO_SELECT_GPUS]]\n",
    "                               [--tpu_cores TPU_CORES]\n",
    "                               [--log_gpu_memory LOG_GPU_MEMORY]\n",
    "                               [--progress_bar_refresh_rate PROGRESS_BAR_REFRESH_RATE]\n",
    "                               [--overfit_batches OVERFIT_BATCHES]\n",
    "                               [--track_grad_norm TRACK_GRAD_NORM]\n",
    "                               [--check_val_every_n_epoch CHECK_VAL_EVERY_N_EPOCH]\n",
    "                               [--fast_dev_run [FAST_DEV_RUN]]\n",
    "                               [--accumulate_grad_batches ACCUMULATE_GRAD_BATCHES]\n",
    "                               [--max_epochs MAX_EPOCHS]\n",
    "                               [--min_epochs MIN_EPOCHS]\n",
    "                               [--max_steps MAX_STEPS] [--min_steps MIN_STEPS]\n",
    "                               [--limit_train_batches LIMIT_TRAIN_BATCHES]\n",
    "                               [--limit_val_batches LIMIT_VAL_BATCHES]\n",
    "                               [--limit_test_batches LIMIT_TEST_BATCHES]\n",
    "                               [--val_check_interval VAL_CHECK_INTERVAL]\n",
    "                               [--log_save_interval LOG_SAVE_INTERVAL]\n",
    "                               [--row_log_interval ROW_LOG_INTERVAL]\n",
    "                               [--distributed_backend DISTRIBUTED_BACKEND]\n",
    "                               [--sync_batchnorm [SYNC_BATCHNORM]]\n",
    "                               [--precision PRECISION]\n",
    "                               [--weights_summary WEIGHTS_SUMMARY]\n",
    "                               [--weights_save_path WEIGHTS_SAVE_PATH]\n",
    "                               [--num_sanity_val_steps NUM_SANITY_VAL_STEPS]\n",
    "                               [--truncated_bptt_steps TRUNCATED_BPTT_STEPS]\n",
    "                               [--resume_from_checkpoint RESUME_FROM_CHECKPOINT]\n",
    "                               [--profiler [PROFILER]]\n",
    "                               [--benchmark [BENCHMARK]]\n",
    "                               [--deterministic [DETERMINISTIC]]\n",
    "                               [--reload_dataloaders_every_epoch [RELOAD_DATALOADERS_EVERY_EPOCH]]\n",
    "                               [--auto_lr_find [AUTO_LR_FIND]]\n",
    "                               [--replace_sampler_ddp [REPLACE_SAMPLER_DDP]]\n",
    "                               [--terminate_on_nan [TERMINATE_ON_NAN]]\n",
    "                               [--auto_scale_batch_size [AUTO_SCALE_BATCH_SIZE]]\n",
    "                               [--prepare_data_per_node [PREPARE_DATA_PER_NODE]]\n",
    "                               [--amp_type AMP_TYPE] [--amp_level AMP_LEVEL]\n",
    "                               [--val_percent_check VAL_PERCENT_CHECK]\n",
    "                               [--test_percent_check TEST_PERCENT_CHECK]\n",
    "                               [--train_percent_check TRAIN_PERCENT_CHECK]\n",
    "                               [--overfit_pct OVERFIT_PCT]\n",
    "                               [--batch_size BATCH_SIZE]\n",
    "                               [--epochs_count EPOCHS_COUNT]\n",
    "                               [--data_root DATA_ROOT]\n",
    "                               [--num_workers NUM_WORKERS]\n",
    "                               [--learning_rate LEARNING_RATE]\n",
    "\n",
    "```\n",
    "\n",
    "**You can notice that we have added the last five options.**\n",
    "\n",
    "**To train with 16-bit precision, run the following command:**\n",
    "\n",
    "```\n",
    "python PyTorch_to_Lightning.py --precision 16\n",
    "```\n",
    "\n",
    "Note that we can not update `max_epochs`, `deterministic`, `gpus`, etc. flags via command line, because we have overridden it.\n",
    "\n",
    "Get more details [here](https://pytorch-lightning.readthedocs.io/en/latest/trainer.html)"
   ]
  },
  {
   "cell_type": "markdown",
   "metadata": {},
   "source": [
    "### <font style=\"color:green\">Tensorboard Dashboard</font>"
   ]
  },
  {
   "cell_type": "code",
   "execution_count": null,
   "metadata": {
    "collapsed": true
   },
   "outputs": [],
   "source": [
    "# To reload tensorBoard\n",
    "%load_ext tensorboard\n",
    "\n",
    "# logs folder path\n",
    "%tensorboard --logdir=lightning_logs"
   ]
  },
  {
   "cell_type": "markdown",
   "metadata": {},
   "source": [
    "**Let's start training.**"
   ]
  },
  {
   "cell_type": "code",
   "execution_count": 9,
   "metadata": {},
   "outputs": [
    {
     "name": "stderr",
     "output_type": "stream",
     "text": [
      "GPU available: True, used: True\n",
      "TPU available: False, using: 0 TPU cores\n",
      "CUDA_VISIBLE_DEVICES: [0]\n",
      "\n",
      "  | Name  | Type       | Params\n",
      "-------------------------------------\n",
      "0 | _body | Sequential | 2 K   \n",
      "1 | _head | Sequential | 59 K  \n"
     ]
    },
    {
     "data": {
      "application/vnd.jupyter.widget-view+json": {
       "model_id": "0701abf71f794827a2101ef236d0c781",
       "version_major": 2,
       "version_minor": 0
      },
      "text/plain": [
       "HBox(children=(FloatProgress(value=1.0, bar_style='info', description='Validation sanity check', layout=Layout…"
      ]
     },
     "metadata": {},
     "output_type": "display_data"
    },
    {
     "data": {
      "application/vnd.jupyter.widget-view+json": {
       "model_id": "fa07acbf5b4144beb100993afafe9c5d",
       "version_major": 2,
       "version_minor": 0
      },
      "text/plain": [
       "HBox(children=(FloatProgress(value=1.0, bar_style='info', description='Training', layout=Layout(flex='2'), max…"
      ]
     },
     "metadata": {},
     "output_type": "display_data"
    },
    {
     "data": {
      "application/vnd.jupyter.widget-view+json": {
       "model_id": "",
       "version_major": 2,
       "version_minor": 0
      },
      "text/plain": [
       "HBox(children=(FloatProgress(value=1.0, bar_style='info', description='Validating', layout=Layout(flex='2'), m…"
      ]
     },
     "metadata": {},
     "output_type": "display_data"
    },
    {
     "data": {
      "application/vnd.jupyter.widget-view+json": {
       "model_id": "",
       "version_major": 2,
       "version_minor": 0
      },
      "text/plain": [
       "HBox(children=(FloatProgress(value=1.0, bar_style='info', description='Validating', layout=Layout(flex='2'), m…"
      ]
     },
     "metadata": {},
     "output_type": "display_data"
    },
    {
     "data": {
      "application/vnd.jupyter.widget-view+json": {
       "model_id": "",
       "version_major": 2,
       "version_minor": 0
      },
      "text/plain": [
       "HBox(children=(FloatProgress(value=1.0, bar_style='info', description='Validating', layout=Layout(flex='2'), m…"
      ]
     },
     "metadata": {},
     "output_type": "display_data"
    },
    {
     "data": {
      "application/vnd.jupyter.widget-view+json": {
       "model_id": "",
       "version_major": 2,
       "version_minor": 0
      },
      "text/plain": [
       "HBox(children=(FloatProgress(value=1.0, bar_style='info', description='Validating', layout=Layout(flex='2'), m…"
      ]
     },
     "metadata": {},
     "output_type": "display_data"
    },
    {
     "data": {
      "application/vnd.jupyter.widget-view+json": {
       "model_id": "",
       "version_major": 2,
       "version_minor": 0
      },
      "text/plain": [
       "HBox(children=(FloatProgress(value=1.0, bar_style='info', description='Validating', layout=Layout(flex='2'), m…"
      ]
     },
     "metadata": {},
     "output_type": "display_data"
    },
    {
     "data": {
      "application/vnd.jupyter.widget-view+json": {
       "model_id": "",
       "version_major": 2,
       "version_minor": 0
      },
      "text/plain": [
       "HBox(children=(FloatProgress(value=1.0, bar_style='info', description='Validating', layout=Layout(flex='2'), m…"
      ]
     },
     "metadata": {},
     "output_type": "display_data"
    },
    {
     "data": {
      "application/vnd.jupyter.widget-view+json": {
       "model_id": "",
       "version_major": 2,
       "version_minor": 0
      },
      "text/plain": [
       "HBox(children=(FloatProgress(value=1.0, bar_style='info', description='Validating', layout=Layout(flex='2'), m…"
      ]
     },
     "metadata": {},
     "output_type": "display_data"
    },
    {
     "data": {
      "application/vnd.jupyter.widget-view+json": {
       "model_id": "",
       "version_major": 2,
       "version_minor": 0
      },
      "text/plain": [
       "HBox(children=(FloatProgress(value=1.0, bar_style='info', description='Validating', layout=Layout(flex='2'), m…"
      ]
     },
     "metadata": {},
     "output_type": "display_data"
    },
    {
     "data": {
      "application/vnd.jupyter.widget-view+json": {
       "model_id": "",
       "version_major": 2,
       "version_minor": 0
      },
      "text/plain": [
       "HBox(children=(FloatProgress(value=1.0, bar_style='info', description='Validating', layout=Layout(flex='2'), m…"
      ]
     },
     "metadata": {},
     "output_type": "display_data"
    },
    {
     "data": {
      "application/vnd.jupyter.widget-view+json": {
       "model_id": "",
       "version_major": 2,
       "version_minor": 0
      },
      "text/plain": [
       "HBox(children=(FloatProgress(value=1.0, bar_style='info', description='Validating', layout=Layout(flex='2'), m…"
      ]
     },
     "metadata": {},
     "output_type": "display_data"
    },
    {
     "data": {
      "application/vnd.jupyter.widget-view+json": {
       "model_id": "",
       "version_major": 2,
       "version_minor": 0
      },
      "text/plain": [
       "HBox(children=(FloatProgress(value=1.0, bar_style='info', description='Validating', layout=Layout(flex='2'), m…"
      ]
     },
     "metadata": {},
     "output_type": "display_data"
    },
    {
     "data": {
      "application/vnd.jupyter.widget-view+json": {
       "model_id": "",
       "version_major": 2,
       "version_minor": 0
      },
      "text/plain": [
       "HBox(children=(FloatProgress(value=1.0, bar_style='info', description='Validating', layout=Layout(flex='2'), m…"
      ]
     },
     "metadata": {},
     "output_type": "display_data"
    },
    {
     "name": "stderr",
     "output_type": "stream",
     "text": [
      "Epoch 00012: early stopping triggered.\n"
     ]
    },
    {
     "name": "stdout",
     "output_type": "stream",
     "text": [
      "\n"
     ]
    }
   ],
   "source": [
    "model, data_module = training_validation()"
   ]
  },
  {
   "cell_type": "markdown",
   "metadata": {},
   "source": [
    "## <font style=\"color:green\">5. Model Loading and Inference</font>\n",
    "\n",
    "The `sample_prediction` method takes `model`, `data_module`, and `ckpt_path` as arguments. Load the checkpoint from given `ckpt_path`. Get validation data loader from the `data_module` and make inference on one batch and plot them. "
   ]
  },
  {
   "cell_type": "code",
   "execution_count": 10,
   "metadata": {
    "collapsed": true
   },
   "outputs": [],
   "source": [
    "def sample_prediction(model, data_module, ckpt_path):\n",
    "    \n",
    "    # load model from checkpoint\n",
    "    ckpt_model = model.load_from_checkpoint(ckpt_path)\n",
    "    # freeze model for inference\n",
    "    ckpt_model.freeze()\n",
    "    \n",
    "    # get val_dataloader for data_module\n",
    "    val_data = data_module.val_dataloader()\n",
    "    \n",
    "    for data, _ in val_data:\n",
    "        output = model(data)\n",
    "\n",
    "        # get probability score using softmax\n",
    "        prob = F.softmax(output, dim=1)\n",
    "\n",
    "        # get the max probability\n",
    "        pred_prob = prob.data.max(dim=1)[0]\n",
    "    \n",
    "        # get the index of the max probability\n",
    "        pred_index = prob.data.max(dim=1)[1]\n",
    "        # pass the loaded model\n",
    "        pred, prob = pred_index.cpu().numpy(), pred_prob.cpu().numpy()\n",
    "        break\n",
    "    \n",
    "\n",
    "    plt.rcParams[\"figure.figsize\"] = (3, 3)\n",
    "    for images, _ in val_data:\n",
    "        for i, img in enumerate(images):\n",
    "            img = transforms.functional.to_pil_image(img)\n",
    "            plt.imshow(img, cmap='gray')\n",
    "            plt.gca().set_title('Prediction: {0}, Prob: {1:.2}'.format(pred[i], prob[i]))\n",
    "            plt.show()\n",
    "        break\n",
    "    \n",
    "    return"
   ]
  },
  {
   "cell_type": "markdown",
   "metadata": {},
   "source": [
    "When we run the notebook (or the `.py`) multiple times, one version directory is created inside `lightning_logs` every time we want to run the sample on the latest model. So we have written the method `get_latest_run_version_ckpt_epoch_no` to find the checkpoint path of the latest run. "
   ]
  },
  {
   "cell_type": "code",
   "execution_count": 11,
   "metadata": {
    "collapsed": true
   },
   "outputs": [],
   "source": [
    "import os\n",
    "\n",
    "def get_latest_run_version_ckpt_epoch_no(lightning_logs_dir='lightning_logs', run_version=None):\n",
    "    if run_version is None:\n",
    "        run_version = 0\n",
    "        for dir_name in os.listdir(lightning_logs_dir):\n",
    "            if 'version' in dir_name:\n",
    "                if int(dir_name.split('_')[1]) > run_version:\n",
    "                    run_version = int(dir_name.split('_')[1])\n",
    "                \n",
    "    checkpoints_dir = os.path.join(lightning_logs_dir, 'version_{}'.format(run_version), 'checkpoints')\n",
    "    \n",
    "    files = os.listdir(checkpoints_dir)\n",
    "    ckpt_filename = None\n",
    "    for file in files:\n",
    "        if file.endswith('.ckpt'):\n",
    "            ckpt_filename = file\n",
    "        \n",
    "    if ckpt_filename is not None:\n",
    "        ckpt_path = os.path.join(checkpoints_dir, ckpt_filename)\n",
    "    else:\n",
    "        print('CKPT file is not present')\n",
    "    \n",
    "    return ckpt_path"
   ]
  },
  {
   "cell_type": "markdown",
   "metadata": {},
   "source": [
    "**Let's have sample prediction from the latest saved checkpoint.**"
   ]
  },
  {
   "cell_type": "code",
   "execution_count": 12,
   "metadata": {
    "scrolled": true
   },
   "outputs": [
    {
     "name": "stdout",
     "output_type": "stream",
     "text": [
      "The latest model path: lightning_logs/version_7/checkpoints/epoch=7.ckpt\n"
     ]
    },
    {
     "data": {
      "image/png": "[encoded data removed]",
      "text/plain": [
       "<Figure size 216x216 with 1 Axes>"
      ]
     },
     "metadata": {
      "needs_background": "light"
     },
     "output_type": "display_data"
    },
    {
     "data": {
      "image/png": "[encoded data removed]",
      "text/plain": [
       "<Figure size 216x216 with 1 Axes>"
      ]
     },
     "metadata": {
      "needs_background": "light"
     },
     "output_type": "display_data"
    },
    {
     "data": {
      "image/png": "[encoded data removed]",
      "text/plain": [
       "<Figure size 216x216 with 1 Axes>"
      ]
     },
     "metadata": {
      "needs_background": "light"
     },
     "output_type": "display_data"
    },
    {
     "data": {
      "image/png": "[encoded data removed]",
      "text/plain": [
       "<Figure size 216x216 with 1 Axes>"
      ]
     },
     "metadata": {
      "needs_background": "light"
     },
     "output_type": "display_data"
    },
    {
     "data": {
      "image/png": "[encoded data removed]",
      "text/plain": [
       "<Figure size 216x216 with 1 Axes>"
      ]
     },
     "metadata": {
      "needs_background": "light"
     },
     "output_type": "display_data"
    },
    {
     "data": {
      "image/png": "[encoded data removed]",
      "text/plain": [
       "<Figure size 216x216 with 1 Axes>"
      ]
     },
     "metadata": {
      "needs_background": "light"
     },
     "output_type": "display_data"
    },
    {
     "data": {
      "image/png": "[encoded data removed]",
      "text/plain": [
       "<Figure size 216x216 with 1 Axes>"
      ]
     },
     "metadata": {
      "needs_background": "light"
     },
     "output_type": "display_data"
    },
    {
     "data": {
      "image/png": "[encoded data removed]",
      "text/plain": [
       "<Figure size 216x216 with 1 Axes>"
      ]
     },
     "metadata": {
      "needs_background": "light"
     },
     "output_type": "display_data"
    },
    {
     "data": {
      "image/png": "[encoded data removed]",
      "text/plain": [
       "<Figure size 216x216 with 1 Axes>"
      ]
     },
     "metadata": {
      "needs_background": "light"
     },
     "output_type": "display_data"
    },
    {
     "data": {
      "image/png": "[encoded data removed]",
      "text/plain": [
       "<Figure size 216x216 with 1 Axes>"
      ]
     },
     "metadata": {
      "needs_background": "light"
     },
     "output_type": "display_data"
    },
    {
     "data": {
      "image/png": "[encoded data removed]",
      "text/plain": [
       "<Figure size 216x216 with 1 Axes>"
      ]
     },
     "metadata": {
      "needs_background": "light"
     },
     "output_type": "display_data"
    },
    {
     "data": {
      "image/png": "[encoded data removed]",
      "text/plain": [
       "<Figure size 216x216 with 1 Axes>"
      ]
     },
     "metadata": {
      "needs_background": "light"
     },
     "output_type": "display_data"
    },
    {
     "data": {
      "image/png": "[encoded data removed]",
      "text/plain": [
       "<Figure size 216x216 with 1 Axes>"
      ]
     },
     "metadata": {
      "needs_background": "light"
     },
     "output_type": "display_data"
    },
    {
     "data": {
      "image/png": "[encoded data removed]",
      "text/plain": [
       "<Figure size 216x216 with 1 Axes>"
      ]
     },
     "metadata": {
      "needs_background": "light"
     },
     "output_type": "display_data"
    },
    {
     "data": {
      "image/png": "[encoded data removed]",
      "text/plain": [
       "<Figure size 216x216 with 1 Axes>"
      ]
     },
     "metadata": {
      "needs_background": "light"
     },
     "output_type": "display_data"
    },
    {
     "data": {
      "image/png": "[encoded data removed]",
      "text/plain": [
       "<Figure size 216x216 with 1 Axes>"
      ]
     },
     "metadata": {
      "needs_background": "light"
     },
     "output_type": "display_data"
    }
   ],
   "source": [
    "# get checkpoints of the latest run\n",
    "ckpt_path = get_latest_run_version_ckpt_epoch_no()\n",
    "print('The latest model path: {}'.format(ckpt_path))\n",
    "\n",
    "# sample prediction\n",
    "sample_prediction(model, data_module, ckpt_path)"
   ]
  },
  {
   "cell_type": "markdown",
   "metadata": {},
   "source": [
    "# <font style=\"color:blue\">References</font>\n",
    "\n",
    "1. https://pytorch.org/tutorials/beginner/data_loading_tutorial.html\n",
    "1. https://pytorch.org/tutorials/beginner/saving_loading_models.html\n",
    "1. https://colab.research.google.com/drive/1F_RNcHzTfFuQf-LeKvSlud6x7jXYkG31#scrollTo=gEulmrbxwaYL\n",
    "1. https://pytorch-lightning.readthedocs.io\n",
    "1. https://github.com/PyTorchLightning/pytorch-lightning\n",
    "1. https://www.youtube.com/watch?v=QHww1JH7IDU\n",
    "1. https://pytorch-lightning.readthedocs.io/en/latest/\n",
    "1. https://www.youtube.com/channel/UC8m-y0yAFJpX0hRvxH8wJVw/featured"
   ]
  }
 ],
 "metadata": {
  "jupytext": {
   "formats": "ipynb,py:light"
  },
  "kernelspec": {
   "display_name": "Python 3",
   "language": "python",
   "name": "python3"
  },
  "language_info": {
   "codemirror_mode": {
    "name": "ipython",
    "version": 3
   },
   "file_extension": ".py",
   "mimetype": "text/x-python",
   "name": "python",
   "nbconvert_exporter": "python",
   "pygments_lexer": "ipython3",
   "version": "3.7.3"
  }
 },
 "nbformat": 4,
 "nbformat_minor": 2
}
